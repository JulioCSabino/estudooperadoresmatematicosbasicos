{
 "cells": [
  {
   "cell_type": "code",
   "execution_count": 1,
   "metadata": {},
   "outputs": [
    {
     "name": "stdout",
     "output_type": "stream",
     "text": [
      "A soma é 4, a multiplicação é 4\n",
      "A divisão é 1.000, e a subtração é 0\n"
     ]
    }
   ],
   "source": [
    "# codigos de estudo da disciplina de python\n",
    "# entrada de dados\n",
    "n1 = int(input('Digite um número:'))\n",
    "n2 = int(input('Digite o próximo número:'))\n",
    "\n",
    "# operacoes a serem realizadas\n",
    "soma = n1 + n2\n",
    "mult = n1 * n2\n",
    "div = n1 / n2\n",
    "subt = n1 - n2\n",
    "\n",
    "# traz os resultados das operações nas impressões das duas entradas digitadas pelo usuário\n",
    "\n",
    "print('A soma é {}, a multiplicação é {}'.format(soma, mult))\n",
    "print('A divisão é {:.3f}, e a subtração é {}'.format(div, subt))\n"
   ]
  },
  {
   "cell_type": "code",
   "execution_count": 5,
   "metadata": {},
   "outputs": [
    {
     "name": "stdout",
     "output_type": "stream",
     "text": [
      "15 / 3 = 5.0\n"
     ]
    }
   ],
   "source": [
    "# codigos de estudo da disciplina de python\n",
    "# criado as variaveis\n",
    "n1 = 0\n",
    "n2 = 0\n",
    "resultado = 0\n",
    "operacao = ''\n",
    "\n",
    " # while true:\n",
    " # Chamada de entrada de dados numericos, operador e dados numericos\n",
    "n1 = int(input('Digite o 1º número para a operação:'))\n",
    "operacao = input('Digite o sinal da operação desejada:')\n",
    "n2 = int(input('Digite o outro número para a operação:'))\n",
    "\n",
    "# criado as condicionais\n",
    "if operacao == '+':\n",
    "    resultado = n1 + n2\n",
    "elif operacao == '-':\n",
    "    resultado = n1 - n2\n",
    "elif operacao == '*':\n",
    "    resultado = n1 * n2\n",
    "elif operacao == '/':\n",
    "    resultado = n1 / n2\n",
    "else:\n",
    "    resultado = 'Operação falhou, tente com os operadores: soma +, subtração -, multiplicação * e divisão /.'\n",
    "  #  break\n",
    "# imprime o resultado com a operação.\n",
    "\n",
    "print(str(n1) + ' ' + str(operacao) + ' ' + str(n2) + ' = ' + str(resultado))\n"
   ]
  }
 ],
 "metadata": {
  "kernelspec": {
   "display_name": "Python 3",
   "language": "python",
   "name": "python3"
  },
  "language_info": {
   "codemirror_mode": {
    "name": "ipython",
    "version": 3
   },
   "file_extension": ".py",
   "mimetype": "text/x-python",
   "name": "python",
   "nbconvert_exporter": "python",
   "pygments_lexer": "ipython3",
   "version": "3.12.0"
  }
 },
 "nbformat": 4,
 "nbformat_minor": 2
}
