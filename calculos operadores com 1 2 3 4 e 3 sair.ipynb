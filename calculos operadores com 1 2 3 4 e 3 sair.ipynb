{
 "cells": [
  {
   "cell_type": "code",
   "execution_count": 7,
   "metadata": {},
   "outputs": [
    {
     "name": "stdout",
     "output_type": "stream",
     "text": [
      "1: Para a Soma\n",
      "2: Para a Subtração\n",
      "3: Para a Multiplicação\n",
      "4: Para a Divisão\n",
      "0: E para Sair\n",
      "O resultado é: 12.0\n"
     ]
    }
   ],
   "source": [
    "def calculadora():\n",
    "    \n",
    "    while True:\n",
    "\n",
    "        print(\"1: Para a Soma\")\n",
    "        print(\"2: Para a Subtração\")\n",
    "        print(\"3: Para a Multiplicação\")\n",
    "        print(\"4: Para a Divisão\")\n",
    "        print(\"0: E para Sair\")\n",
    "    \n",
    "    \n",
    "    \n",
    "        operacao = input(\"Digite o número para a operação correspondente: \")\n",
    "\n",
    "        if operacao == \"0\":\n",
    "            break\n",
    "        elif operacao not in [\"1\", \"2\", \"3\", \"4\"]:\n",
    "            print(\"Essa opção não existe\")\n",
    "            continue\n",
    "\n",
    "        n1 = float(input(\"Digite o primeiro valor: \"))\n",
    "        n2 = float(input(\"Digite o segundo valor: \"))\n",
    "\n",
    "        if operacao == \"1\":\n",
    "            resultado = n1 + n2\n",
    "        elif operacao == \"2\":\n",
    "            resultado = n1 - n2\n",
    "        elif operacao == \"3\":\n",
    "            resultado = n1 * n2\n",
    "        elif operacao == \"4\":\n",
    "            if n2 != 0:\n",
    "                resultado = n1 / n2\n",
    "            else:\n",
    "                print(\"Não é possível dividir por zero\")\n",
    "                continue\n",
    "\n",
    "        print(\"O resultado é:\", resultado)\n",
    "        break\n",
    "\n",
    "calculadora()\n"
   ]
  }
 ],
 "metadata": {
  "kernelspec": {
   "display_name": "Python 3",
   "language": "python",
   "name": "python3"
  },
  "language_info": {
   "codemirror_mode": {
    "name": "ipython",
    "version": 3
   },
   "file_extension": ".py",
   "mimetype": "text/x-python",
   "name": "python",
   "nbconvert_exporter": "python",
   "pygments_lexer": "ipython3",
   "version": "3.12.0"
  }
 },
 "nbformat": 4,
 "nbformat_minor": 2
}
